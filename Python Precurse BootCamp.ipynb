{
 "nbformat": 4,
 "nbformat_minor": 2,
 "metadata": {
  "language_info": {
   "name": "python",
   "codemirror_mode": {
    "name": "ipython",
    "version": 3
   },
   "version": "3.7.4-final"
  },
  "orig_nbformat": 2,
  "file_extension": ".py",
  "mimetype": "text/x-python",
  "name": "python",
  "npconvert_exporter": "python",
  "pygments_lexer": "ipython3",
  "version": 3,
  "kernelspec": {
   "name": "python3",
   "display_name": "Python 3"
  }
 },
 "cells": [
  {
   "cell_type": "markdown",
   "execution_count": null,
   "metadata": {},
   "outputs": [],
   "source": [
    "# Data Science Bootcamp - The Bridge \n",
    "## Precurso\n",
    "En este notebook vamos a ver, uno a uno, los conceptos básicos de Python. Constarán de ejercicios prácticos acompañados de una explicación teórica dada por el profesor.\n",
    "\n",
    "Los siguientes enlaces están recomendados para el alumno para profundizar y reforzar conceptos a partir de  ejercicios y ejemplos:\n",
    "\n",
    "- https://facundoq.github.io/courses/aa2018/res/02_python.html\n",
    "\n",
    "- https://www.w3resource.com/python-exercises/\n",
    "\n",
    "- https://www.practicepython.org/\n",
    "\n",
    "- https://es.slideshare.net/egutierrezru/python-paraprincipiantes\n",
    "\n",
    "- https://www.sololearn.com/Play/Python#\n",
    "\n",
    "- https://github.com/mhkmcp/Python-Bootcamp-from-Basic-to-Advanced\n",
    "\n",
    "Ejercicios avanzados:\n",
    "\n",
    "- https://github.com/darkprinx/100-plus-Python-programming-exercises-extended/tree/master/Status (++)\n",
    "\n",
    "- https://github.com/mahtab04/Python-Programming-Practice (++)\n",
    "\n",
    "- https://github.com/whojayantkumar/Python_Programs (+++)\n",
    "\n",
    "- https://www.w3resource.com/python-exercises/ (++++)\n",
    "\n",
    "- https://github.com/fupus/notebooks-ejercicios (+++++)\n",
    "\n",
    "Tutor de ayuda PythonTutor:\n",
    "\n",
    "- http://pythontutor.com/\n"
   ]
  },
  {
   "cell_type": "markdown",
   "execution_count": null,
   "metadata": {},
   "outputs": [],
   "source": [
    "## 1. Variables y tipos\n",
    "\n",
    "### Cadenas"
   ]
  },
  {
   "cell_type": "code",
   "execution_count": null,
   "metadata": {},
   "outputs": [],
   "source": [
    "print(\"Hello Python world!\")"
   ]
  },
  {
   "cell_type": "code",
   "execution_count": null,
   "metadata": {},
   "outputs": [],
   "source": [
    "# Soy un comentario\n",
    "# print(\"Hello Python world!\")"
   ]
  },
  {
   "cell_type": "code",
   "execution_count": null,
   "metadata": {},
   "outputs": [],
   "source": [
    "message = \"One of Python's strengths is its diverse community.\" \n",
    "print(message)"
   ]
  },
  {
   "cell_type": "code",
   "execution_count": null,
   "metadata": {},
   "outputs": [],
   "source": [
    "first_name = \"ada\"\n",
    "last_name = \"lovelace\"\n",
    "full_name = first_name + \" \" + last_name\n",
    "message = \"Hello, \" + full_name.title()\n",
    "print(message)"
   ]
  },
  {
   "cell_type": "code",
   "execution_count": null,
   "metadata": {},
   "outputs": [],
   "source": [
    "message = \"Hello Python world!\"\n",
    "print(message)\n",
    "\n",
    "message = \"Hello Python Crash Course world!\"\n",
    "print(message)"
   ]
  },
  {
   "cell_type": "code",
   "execution_count": null,
   "metadata": {},
   "outputs": [],
   "source": [
    "name = \"Ada Lovelace\"\n",
    "x = 2\n",
    "print(name.upper())\n",
    "print(name.lower())"
   ]
  },
  {
   "cell_type": "markdown",
   "execution_count": null,
   "metadata": {},
   "outputs": [],
   "source": [
    "## 2. Números y operadores"
   ]
  },
  {
   "cell_type": "code",
   "execution_count": null,
   "metadata": {},
   "outputs": [],
   "source": [
    "### Enteros ###\n",
    "\n",
    "x = 3 \n",
    "\n",
    "print(\"- Tipo de x:\")\n",
    "print(type(x)) # Imprime el tipo (o `clase`) de x\n",
    "print(\"- Valor de x:\")\n",
    "print(x)       # Imprimir un valor\n",
    "print(\"- x+1:\")\n",
    "print(x + 1)   # Suma: imprime \"4\"\n",
    "print(\"- x-1:\")\n",
    "print(x - 1)   # Resta; imprime \"2\"\n",
    "print(\"- x*2:\")\n",
    "print(x * 2)   # Multiplicación; imprime \"6\"\n",
    "print(\"- x^2:\")\n",
    "print(x ** 2)  # Exponenciación; imprime \"9\"\n",
    "# Modificación de x\n",
    "x += 1 \n",
    "print(\"- x modificado:\")\n",
    "print(x)  # Imprime \"4\"\n",
    "\n",
    "x *= 2\n",
    "print(\"- x modificado:\")\n",
    "print(x)  # Imprime \"8\"\n",
    "\n",
    "print(\"- Varias cosas en una línea:\")\n",
    "print(1,2,x,5*2) # imprime varias cosas a la vez"
   ]
  },
  {
   "cell_type": "code",
   "execution_count": null,
   "metadata": {},
   "outputs": [],
   "source": [
    "y = 2.5 \n",
    "print(\"- Tipo de y:\")\n",
    "print(type(y)) # Imprime el tipo de y\n",
    "print(\"- Varios valores en punto flotante:\")\n",
    "print(y, y + 1, y * 2.5, y ** 2) # Imprime varios números en punto flotante"
   ]
  },
  {
   "cell_type": "markdown",
   "execution_count": null,
   "metadata": {},
   "outputs": [],
   "source": [
    "## 3. Funciones, métodos"
   ]
  },
  {
   "cell_type": "code",
   "execution_count": null,
   "metadata": {},
   "outputs": [],
   "source": [
    "def nombre_de_function_print():\n",
    "    \"\"\"En esta funcion ejecutamos la sentencia print\"\"\"\n",
    "    print(\"Print ejectuado\")"
   ]
  },
  {
   "cell_type": "code",
   "execution_count": null,
   "metadata": {},
   "outputs": [],
   "source": [
    "nombre_de_function_print()"
   ]
  },
  {
   "cell_type": "markdown",
   "execution_count": null,
   "metadata": {},
   "outputs": [],
   "source": [
    "## 4. Listas y colecciones "
   ]
  },
  {
   "cell_type": "code",
   "execution_count": null,
   "metadata": {},
   "outputs": [],
   "source": [
    "bicycles = ['trek', 'cannondale', 'redline', 'specialized']\n",
    "message = \"My first bicycle was a \" + bicycles[0]\n",
    "\n",
    "print(bicycles)\n",
    "print(message)"
   ]
  },
  {
   "cell_type": "code",
   "execution_count": null,
   "metadata": {},
   "outputs": [],
   "source": [
    "cars = ['bmw', 'audi', 'toyota', 'subaru']\n",
    "print(cars)\n",
    "\n",
    "cars.reverse()\n",
    "print(cars)"
   ]
  },
  {
   "cell_type": "code",
   "execution_count": null,
   "metadata": {},
   "outputs": [],
   "source": [
    "motorcycles = ['honda', 'yamaha', 'suzuki', 'ducati'] \n",
    "print(motorcycles)\n",
    "\n",
    "too_expensive = 'ducati'\n",
    "motorcycles.remove(too_expensive)\n",
    "print(motorcycles)\n",
    "print(too_expensive + \" is too expensive for me.\")"
   ]
  },
  {
   "cell_type": "markdown",
   "execution_count": null,
   "metadata": {},
   "outputs": [],
   "source": [
    "## 4. Iteraciones, For"
   ]
  },
  {
   "cell_type": "code",
   "execution_count": null,
   "metadata": {},
   "outputs": [],
   "source": [
    "players = ['charles', 'martina', 'michael', 'florence', 'eli'] \n",
    "\n",
    "print(\"Here are the first three players on my team:\")\n",
    "for player in players[:3]:\n",
    "    print(player.title())\n",
    "\n",
    "\n",
    "#for player in players[0:3]:"
   ]
  },
  {
   "cell_type": "code",
   "execution_count": null,
   "metadata": {},
   "outputs": [],
   "source": [
    "dimensions = (200, 50)\n",
    "for dimension in dimensions:\n",
    "    print(dimension)"
   ]
  },
  {
   "cell_type": "markdown",
   "execution_count": null,
   "metadata": {},
   "outputs": [],
   "source": [
    "## 5. Condiciones: if, elif, else"
   ]
  },
  {
   "cell_type": "markdown",
   "execution_count": null,
   "metadata": {},
   "outputs": [],
   "source": [
    "## 6. Diccionarios"
   ]
  },
  {
   "cell_type": "code",
   "execution_count": null,
   "metadata": {},
   "outputs": [],
   "source": []
  }
 ]
}